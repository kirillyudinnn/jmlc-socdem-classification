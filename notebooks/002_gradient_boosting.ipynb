{
 "cells": [
  {
   "cell_type": "code",
   "execution_count": 1,
   "id": "7aa7c460-3859-4d8a-992b-b19534b7485f",
   "metadata": {},
   "outputs": [],
   "source": [
    "import seaborn as sns\n",
    "import numpy as np\n",
    "import matplotlib.pyplot as plt\n",
    "import pandas as pd"
   ]
  },
  {
   "cell_type": "code",
   "execution_count": 2,
   "id": "5929f33d-0e2a-470e-be38-c2304f00079e",
   "metadata": {},
   "outputs": [],
   "source": [
    "import importlib\n",
    "import user_history_builder\n",
    "importlib.reload(user_history_builder)\n",
    "from user_history_builder import UserHistoryFeatureGenerator, BoostingFeaturesConfig"
   ]
  },
  {
   "cell_type": "code",
   "execution_count": 3,
   "id": "c0d380bc-1b71-4c2d-b80b-d166a6a1620e",
   "metadata": {},
   "outputs": [
    {
     "name": "stderr",
     "output_type": "stream",
     "text": [
      "/data/kyudin/envs/py39/lib/python3.9/site-packages/tqdm/auto.py:21: TqdmWarning: IProgress not found. Please update jupyter and ipywidgets. See https://ipywidgets.readthedocs.io/en/stable/user_install.html\n",
      "  from .autonotebook import tqdm as notebook_tqdm\n"
     ]
    }
   ],
   "source": [
    "from catboost import CatBoostClassifier\n",
    "from sklearn.metrics import classification_report, f1_score, roc_auc_score, accuracy_score\n",
    "from sklearn.calibration import calibration_curve\n",
    "\n",
    "import optuna\n",
    "optuna.logging.set_verbosity(optuna.logging.INFO)"
   ]
  },
  {
   "cell_type": "markdown",
   "id": "2b5350a1-0d71-4c26-94ff-39a6c23e33bf",
   "metadata": {},
   "source": [
    "# Обучение модели градиентного бустинга\n",
    "    Обучим градиентный бустинг на классификацию пола пользователей Rutube\n",
    "    \n",
    "    - В качестве фичей будем считать статистики пользователей (аггрегации по численным признакам, value_counts по категориальным и др.)\n",
    "    - Разбиение на 70/10/20, подбор гиперпараметров с использованием Optuna с оптимизацией F1 метрики\n",
    "    - Сравнение качества с top и random предсказаниями\n",
    "\n",
    "    В классе BoostingFeaturesConfig будем держать конфиг с описанием признаков пользователей/видео и списком функций аггрегации по каждому из них.\n",
    "    UserHistoryFeatureGenerator на основе конфига аггрегирует данные по пользователям"
   ]
  },
  {
   "cell_type": "code",
   "execution_count": 4,
   "id": "8c9710fb-9496-4dce-96f4-80f85d8b66a8",
   "metadata": {},
   "outputs": [],
   "source": [
    "path = r'/home/kyudin/jmlc/data/'\n",
    "data = pd.read_csv(path + 'auth_users_gender_events.csv')\n",
    "sex_labels = pd.read_csv(path + 'auth_sex_labels.csv')"
   ]
  },
  {
   "cell_type": "code",
   "execution_count": 5,
   "id": "838cef5a-2f19-4366-8039-58d938662afb",
   "metadata": {},
   "outputs": [
    {
     "data": {
      "text/html": [
       "<div>\n",
       "<style scoped>\n",
       "    .dataframe tbody tr th:only-of-type {\n",
       "        vertical-align: middle;\n",
       "    }\n",
       "\n",
       "    .dataframe tbody tr th {\n",
       "        vertical-align: top;\n",
       "    }\n",
       "\n",
       "    .dataframe thead th {\n",
       "        text-align: right;\n",
       "    }\n",
       "</style>\n",
       "<table border=\"1\" class=\"dataframe\">\n",
       "  <thead>\n",
       "    <tr style=\"text-align: right;\">\n",
       "      <th></th>\n",
       "      <th>viewer_id</th>\n",
       "      <th>sex</th>\n",
       "    </tr>\n",
       "  </thead>\n",
       "  <tbody>\n",
       "    <tr>\n",
       "      <th>0</th>\n",
       "      <td>46290287</td>\n",
       "      <td>male</td>\n",
       "    </tr>\n",
       "    <tr>\n",
       "      <th>1</th>\n",
       "      <td>46290338</td>\n",
       "      <td>female</td>\n",
       "    </tr>\n",
       "    <tr>\n",
       "      <th>2</th>\n",
       "      <td>46290351</td>\n",
       "      <td>male</td>\n",
       "    </tr>\n",
       "    <tr>\n",
       "      <th>3</th>\n",
       "      <td>46290369</td>\n",
       "      <td>male</td>\n",
       "    </tr>\n",
       "    <tr>\n",
       "      <th>4</th>\n",
       "      <td>46290388</td>\n",
       "      <td>female</td>\n",
       "    </tr>\n",
       "  </tbody>\n",
       "</table>\n",
       "</div>"
      ],
      "text/plain": [
       "   viewer_id     sex\n",
       "0   46290287    male\n",
       "1   46290338  female\n",
       "2   46290351    male\n",
       "3   46290369    male\n",
       "4   46290388  female"
      ]
     },
     "execution_count": 5,
     "metadata": {},
     "output_type": "execute_result"
    }
   ],
   "source": [
    "sex_labels.head()"
   ]
  },
  {
   "cell_type": "code",
   "execution_count": 6,
   "id": "1a563489-36c8-449b-b9a9-cccdc5b01e8f",
   "metadata": {},
   "outputs": [
    {
     "data": {
      "text/plain": [
       "Index(['event_date', 'viewer_id', 'video_id', 'total_watchtime', 'duration',\n",
       "       'category_id', 'local_hour', 'ua_os', 'ua_client_name', 'day_of_week',\n",
       "       'time_of_day', 'author', 'v_channel_type', 'v_year_views',\n",
       "       'cumulative_male', 'cumulative_female', 'video_users_total',\n",
       "       'cumulative_under_18', 'cumulative_18_24', 'cumulative_25_34',\n",
       "       'cumulative_35_44', 'cumulative_45_54', 'video_users_total_age'],\n",
       "      dtype='object')"
      ]
     },
     "execution_count": 6,
     "metadata": {},
     "output_type": "execute_result"
    }
   ],
   "source": [
    "data.columns"
   ]
  },
  {
   "cell_type": "code",
   "execution_count": 7,
   "id": "d83228a7-1d4d-42dc-8a22-18b8252ac476",
   "metadata": {},
   "outputs": [],
   "source": [
    "data['cumulative_male_ratio'] = data['cumulative_male'] / data[['cumulative_male', 'cumulative_female']].sum(axis=1)\n",
    "data['cumulative_female_ratio'] = data['cumulative_female'] / data[['cumulative_male', 'cumulative_female']].sum(axis=1)\n",
    "\n",
    "data['cumulative_under_18_ratio'] = data['cumulative_under_18'] / data['video_users_total_age']\n",
    "data['cumulative_18_24_ratio'] = data['cumulative_18_24'] / data['video_users_total_age']\n",
    "data['cumulative_25_34_ratio'] = data['cumulative_25_34'] / data['video_users_total_age']\n",
    "data['cumulative_35_44_ratio'] = data['cumulative_35_44'] / data['video_users_total_age']\n",
    "data['cumulative_45_54_ratio'] = data['cumulative_45_54'] / data['video_users_total_age']\n",
    "\n",
    "data['category_id'] = data['category_id'].astype(str)"
   ]
  },
  {
   "cell_type": "code",
   "execution_count": 8,
   "id": "5a6916c0-2339-4a24-a993-28ead9cf3a39",
   "metadata": {},
   "outputs": [],
   "source": [
    "def train_val_test_split(\n",
    "    labels: pd.DataFrame,\n",
    "    train_size: float,\n",
    "    val_size: float\n",
    "):\n",
    "    \"\"\"\n",
    "    Args:\n",
    "        labels (pd.DataFrame): Authorized users age/sex DataFrame\n",
    "        train_size (float): train size\n",
    "        val_size (float): validation size \n",
    "\n",
    "    Returns:\n",
    "        Train/Val/Test DataFrames with labels\n",
    "    \"\"\"\n",
    "\n",
    "    assert labels[\"viewer_id\"].nunique() == len(labels), \"...\"\n",
    "\n",
    "    unique_users = labels['viewer_id'].to_numpy().copy()\n",
    "    np.random.shuffle(unique_users)\n",
    "\n",
    "    n_users = len(unique_users)\n",
    "    n_train = int(n_users * train_size)\n",
    "    n_val = int(n_users * val_size)\n",
    "\n",
    "\n",
    "    train_users = unique_users[:n_train]\n",
    "    val_users = unique_users[n_train:n_train + n_val]\n",
    "    test_users = unique_users[n_train + n_val:]\n",
    "\n",
    "    train_labels = labels[labels[\"viewer_id\"].isin(train_users)].copy()\n",
    "    val_labels = labels[labels[\"viewer_id\"].isin(val_users)].copy()\n",
    "    test_labels = labels[labels[\"viewer_id\"].isin(test_users)].copy()\n",
    "\n",
    "    return train_labels, val_labels, test_labels"
   ]
  },
  {
   "cell_type": "code",
   "execution_count": 9,
   "id": "12074848-ce90-4418-a020-b53fb1a39908",
   "metadata": {},
   "outputs": [],
   "source": [
    "train_labels, val_labels, test_labels = train_val_test_split(\n",
    "    sex_labels,\n",
    "    train_size=0.7,\n",
    "    val_size=0.1\n",
    ")"
   ]
  },
  {
   "cell_type": "code",
   "execution_count": 10,
   "id": "fbddd222-fa0f-45a1-9512-ac72a247badf",
   "metadata": {},
   "outputs": [],
   "source": [
    "train_ids = train_labels['viewer_id'].values\n",
    "val_ids = val_labels['viewer_id'].values\n",
    "test_ids = test_labels['viewer_id'].values\n",
    "\n",
    "\n",
    "train_events = data[data['viewer_id'].isin(train_ids)].copy()\n",
    "val_events = data[data['viewer_id'].isin(val_ids)].copy()\n",
    "test_events = data[data['viewer_id'].isin(test_ids)].copy()"
   ]
  },
  {
   "cell_type": "code",
   "execution_count": 11,
   "id": "4dec855c-0e6d-42ac-85e8-851e2fe814a0",
   "metadata": {},
   "outputs": [],
   "source": [
    "feature_conf = BoostingFeaturesConfig()\n",
    "builder = UserHistoryFeatureGenerator(feature_conf)"
   ]
  },
  {
   "cell_type": "code",
   "execution_count": 12,
   "id": "cb7ff8d2-a2f1-40f6-8b93-5c52eabd0f07",
   "metadata": {},
   "outputs": [],
   "source": [
    "X_train = builder.fit_transform(train_events)\n",
    "X_val = builder.fit_transform(val_events)\n",
    "X_test = builder.fit_transform(test_events)"
   ]
  },
  {
   "cell_type": "code",
   "execution_count": 13,
   "id": "4ef755cc-0319-408b-aa37-fbe5c8da5a7f",
   "metadata": {},
   "outputs": [],
   "source": [
    "sex_labels = sex_labels.set_index('viewer_id')\n",
    "\n",
    "train_labels = sex_labels.loc[X_train.index]\n",
    "val_labels = sex_labels.loc[X_val.index]\n",
    "test_labels = sex_labels.loc[X_test.index]"
   ]
  },
  {
   "cell_type": "code",
   "execution_count": 14,
   "id": "070817bc-4a15-446c-be76-28ebcbfbc29e",
   "metadata": {},
   "outputs": [
    {
     "data": {
      "text/plain": [
       "<Axes: xlabel='sex', ylabel='count'>"
      ]
     },
     "execution_count": 14,
     "metadata": {},
     "output_type": "execute_result"
    },
    {
     "data": {
      "image/png": "[encoded data removed]",
      "text/plain": [
       "<Figure size 640x480 with 1 Axes>"
      ]
     },
     "metadata": {},
     "output_type": "display_data"
    }
   ],
   "source": [
    "sns.countplot(\n",
    "    x=train_labels['sex']\n",
    ")"
   ]
  },
  {
   "cell_type": "code",
   "execution_count": 15,
   "id": "376c7bf4-6a0e-430a-ae91-7c899ccf49a4",
   "metadata": {},
   "outputs": [],
   "source": [
    "label2class = {1: \"female\", 0 : \"male\"}\n",
    "class2label = {\"female\" : 1, \"male\" : 0}\n",
    "\n",
    "y_train = train_labels['sex'].map(class2label)\n",
    "y_val = val_labels['sex'].map(class2label)\n",
    "y_test = test_labels['sex'].map(class2label)"
   ]
  },
  {
   "cell_type": "code",
   "execution_count": 81,
   "id": "8dc5dc8b-ec6d-4910-af89-144736c5496a",
   "metadata": {},
   "outputs": [
    {
     "name": "stdout",
     "output_type": "stream",
     "text": [
      "Пользователей в трейне 279387\n",
      "Пользователей в валидации 39954\n",
      "Пользователей в тесте 79779\n"
     ]
    }
   ],
   "source": [
    "print(\"Пользователей в трейне\", y_train.shape[0])\n",
    "print(\"Пользователей в валидации\", y_val.shape[0])\n",
    "print(\"Пользователей в тесте\", y_test.shape[0])"
   ]
  },
  {
   "cell_type": "markdown",
   "id": "b48730a1-1705-4452-9910-704116364727",
   "metadata": {},
   "source": [
    "# Обучение модели"
   ]
  },
  {
   "cell_type": "code",
   "execution_count": 21,
   "id": "0b442944-8903-4f48-b080-616d07345c3f",
   "metadata": {},
   "outputs": [],
   "source": [
    "cols_to_drop = ['cumulative_male_ratio_median', 'cumulative_female_ratio_sum', 'cumulative_female_ratio_max', 'cumulative_male_ratio_std']\n",
    "X_train = X_train.drop(cols_to_drop, axis=1)\n",
    "X_val = X_val.drop(cols_to_drop, axis=1)\n",
    "X_test = X_test.drop(cols_to_drop, axis=1)"
   ]
  },
  {
   "cell_type": "code",
   "execution_count": 23,
   "id": "bb840a3d-a95a-4162-98ca-c829aa480a1e",
   "metadata": {},
   "outputs": [],
   "source": [
    "def objective(trial):\n",
    "    hpspace = {\n",
    "        'max_depth': trial.suggest_int('max_depth', 3, 12),\n",
    "        'learning_rate': trial.suggest_float('learning_rate', 0.01, 0.5),\n",
    "        'n_estimators': trial.suggest_int('n_estimators', 300, 1500, step=100),\n",
    "        'colsample_bylevel' : trial.suggest_float('colsample_bylevel', 0.35, 0.9, step=0.11),\n",
    "        'subsample': trial.suggest_float('subsample', 0.35, 0.9, step=0.11),\n",
    "        'l2_leaf_reg': trial.suggest_float('l2_leaf_reg', 0.5, 5, log=True),\n",
    "        'min_data_in_leaf': trial.suggest_int('min_data_in_leaf', 1, 50, log=True), \n",
    "    }\n",
    "\n",
    "    clf = CatBoostClassifier(\n",
    "        eval_metric='F1',\n",
    "        early_stopping_rounds=60,\n",
    "        **hpspace\n",
    "    )\n",
    "    clf.fit(X_train, y_train, verbose=False, eval_set=(X_val, y_val))\n",
    "    preds = clf.predict(X_test)\n",
    "    score = f1_score(y_test, preds)\n",
    "\n",
    "    return score"
   ]
  },
  {
   "cell_type": "code",
   "execution_count": 24,
   "id": "19335642-868c-46bb-b86e-b6ff5de2c86b",
   "metadata": {
    "scrolled": true
   },
   "outputs": [
    {
     "name": "stderr",
     "output_type": "stream",
     "text": [
      "[I 2025-07-07 23:35:13,861] A new study created in memory with name: no-name-256901c6-2e41-44e0-ae76-0d9ce94ece9f\n",
      "[I 2025-07-07 23:35:21,677] Trial 0 finished with value: 0.5157268058359098 and parameters: {'max_depth': 9, 'learning_rate': 0.16214656930788382, 'n_estimators': 300, 'colsample_bylevel': 0.9, 'subsample': 0.45999999999999996, 'l2_leaf_reg': 0.7605715312127469, 'min_data_in_leaf': 11}. Best is trial 0 with value: 0.5157268058359098.\n",
      "[I 2025-07-07 23:35:41,016] Trial 1 finished with value: 0.5187621086978689 and parameters: {'max_depth': 11, 'learning_rate': 0.06620233939000941, 'n_estimators': 800, 'colsample_bylevel': 0.6799999999999999, 'subsample': 0.57, 'l2_leaf_reg': 0.532711377869209, 'min_data_in_leaf': 3}. Best is trial 1 with value: 0.5187621086978689.\n",
      "[I 2025-07-07 23:35:42,560] Trial 2 finished with value: 0.5456546623227965 and parameters: {'max_depth': 5, 'learning_rate': 0.3575978476417086, 'n_estimators': 1200, 'colsample_bylevel': 0.79, 'subsample': 0.9, 'l2_leaf_reg': 3.427279281339315, 'min_data_in_leaf': 9}. Best is trial 2 with value: 0.5456546623227965.\n",
      "[I 2025-07-07 23:35:43,539] Trial 3 finished with value: 0.5601281624500666 and parameters: {'max_depth': 4, 'learning_rate': 0.41513683204532287, 'n_estimators': 1000, 'colsample_bylevel': 0.45999999999999996, 'subsample': 0.45999999999999996, 'l2_leaf_reg': 1.0249804962147175, 'min_data_in_leaf': 12}. Best is trial 3 with value: 0.5601281624500666.\n",
      "[I 2025-07-07 23:35:47,383] Trial 4 finished with value: 0.5139371968843384 and parameters: {'max_depth': 10, 'learning_rate': 0.40605691752961953, 'n_estimators': 800, 'colsample_bylevel': 0.57, 'subsample': 0.6799999999999999, 'l2_leaf_reg': 0.9025502034123793, 'min_data_in_leaf': 10}. Best is trial 3 with value: 0.5601281624500666.\n",
      "[I 2025-07-07 23:36:10,522] Trial 5 finished with value: 0.5209982354423998 and parameters: {'max_depth': 10, 'learning_rate': 0.13361232822263192, 'n_estimators': 1100, 'colsample_bylevel': 0.9, 'subsample': 0.9, 'l2_leaf_reg': 0.6108195567508481, 'min_data_in_leaf': 1}. Best is trial 3 with value: 0.5601281624500666.\n",
      "[I 2025-07-07 23:36:15,128] Trial 6 finished with value: 0.5166281123299257 and parameters: {'max_depth': 10, 'learning_rate': 0.23846966846992404, 'n_estimators': 500, 'colsample_bylevel': 0.6799999999999999, 'subsample': 0.9, 'l2_leaf_reg': 4.969802099203887, 'min_data_in_leaf': 45}. Best is trial 3 with value: 0.5601281624500666.\n",
      "[I 2025-07-07 23:36:50,246] Trial 7 finished with value: 0.5167921178324039 and parameters: {'max_depth': 12, 'learning_rate': 0.22359133275052417, 'n_estimators': 1000, 'colsample_bylevel': 0.79, 'subsample': 0.57, 'l2_leaf_reg': 2.5194962515660904, 'min_data_in_leaf': 45}. Best is trial 3 with value: 0.5601281624500666.\n",
      "[I 2025-07-07 23:36:54,233] Trial 8 finished with value: 0.519808136436312 and parameters: {'max_depth': 8, 'learning_rate': 0.35464029222524174, 'n_estimators': 600, 'colsample_bylevel': 0.35, 'subsample': 0.9, 'l2_leaf_reg': 1.2035507726126702, 'min_data_in_leaf': 5}. Best is trial 3 with value: 0.5601281624500666.\n",
      "[I 2025-07-07 23:37:10,721] Trial 9 finished with value: 0.5080103097993632 and parameters: {'max_depth': 12, 'learning_rate': 0.43411309958222477, 'n_estimators': 1300, 'colsample_bylevel': 0.9, 'subsample': 0.35, 'l2_leaf_reg': 0.8949120522363216, 'min_data_in_leaf': 23}. Best is trial 3 with value: 0.5601281624500666.\n",
      "[I 2025-07-07 23:37:11,662] Trial 10 finished with value: 0.5491345207945245 and parameters: {'max_depth': 3, 'learning_rate': 0.46830133534609264, 'n_estimators': 1500, 'colsample_bylevel': 0.35, 'subsample': 0.35, 'l2_leaf_reg': 1.7463325162445182, 'min_data_in_leaf': 2}. Best is trial 3 with value: 0.5601281624500666.\n",
      "[I 2025-07-07 23:37:12,505] Trial 11 finished with value: 0.5491345207945245 and parameters: {'max_depth': 3, 'learning_rate': 0.48454587957946016, 'n_estimators': 1500, 'colsample_bylevel': 0.35, 'subsample': 0.35, 'l2_leaf_reg': 1.7271710565217075, 'min_data_in_leaf': 1}. Best is trial 3 with value: 0.5601281624500666.\n",
      "[I 2025-07-07 23:37:13,649] Trial 12 finished with value: 0.5602159468438538 and parameters: {'max_depth': 3, 'learning_rate': 0.4926503702020316, 'n_estimators': 1300, 'colsample_bylevel': 0.45999999999999996, 'subsample': 0.45999999999999996, 'l2_leaf_reg': 1.8089837039967311, 'min_data_in_leaf': 3}. Best is trial 12 with value: 0.5602159468438538.\n",
      "[I 2025-07-07 23:37:14,817] Trial 13 finished with value: 0.5552035718082279 and parameters: {'max_depth': 5, 'learning_rate': 0.33431649675232866, 'n_estimators': 1300, 'colsample_bylevel': 0.45999999999999996, 'subsample': 0.45999999999999996, 'l2_leaf_reg': 1.3902764950957684, 'min_data_in_leaf': 3}. Best is trial 12 with value: 0.5602159468438538.\n",
      "[I 2025-07-07 23:37:18,747] Trial 14 finished with value: 0.5211346222154565 and parameters: {'max_depth': 5, 'learning_rate': 0.30261557298690167, 'n_estimators': 900, 'colsample_bylevel': 0.45999999999999996, 'subsample': 0.6799999999999999, 'l2_leaf_reg': 2.3002545035382327, 'min_data_in_leaf': 20}. Best is trial 12 with value: 0.5602159468438538.\n"
     ]
    }
   ],
   "source": [
    "study = optuna.create_study(\n",
    "    direction='maximize',\n",
    "    storage=None\n",
    ")\n",
    "\n",
    "study.optimize(objective, n_trials=15)"
   ]
  },
  {
   "cell_type": "markdown",
   "id": "9ad65d6f-8e7f-4fa1-ab80-0bcbcb36485b",
   "metadata": {},
   "source": [
    "# Метрики качества"
   ]
  },
  {
   "cell_type": "code",
   "execution_count": 30,
   "id": "3f07fe57-1738-4644-a76e-b44766ac988b",
   "metadata": {},
   "outputs": [
    {
     "data": {
      "text/html": [
       "<div>\n",
       "<style scoped>\n",
       "    .dataframe tbody tr th:only-of-type {\n",
       "        vertical-align: middle;\n",
       "    }\n",
       "\n",
       "    .dataframe tbody tr th {\n",
       "        vertical-align: top;\n",
       "    }\n",
       "\n",
       "    .dataframe thead th {\n",
       "        text-align: right;\n",
       "    }\n",
       "</style>\n",
       "<table border=\"1\" class=\"dataframe\">\n",
       "  <thead>\n",
       "    <tr style=\"text-align: right;\">\n",
       "      <th></th>\n",
       "      <th>Method</th>\n",
       "      <th>F1</th>\n",
       "      <th>ROC-AUC</th>\n",
       "    </tr>\n",
       "  </thead>\n",
       "  <tbody>\n",
       "    <tr>\n",
       "      <th>0</th>\n",
       "      <td>CatBoost</td>\n",
       "      <td>0.560216</td>\n",
       "      <td>0.754107</td>\n",
       "    </tr>\n",
       "    <tr>\n",
       "      <th>1</th>\n",
       "      <td>Const</td>\n",
       "      <td>0.453446</td>\n",
       "      <td>0.500000</td>\n",
       "    </tr>\n",
       "    <tr>\n",
       "      <th>2</th>\n",
       "      <td>Random</td>\n",
       "      <td>0.374698</td>\n",
       "      <td>0.500000</td>\n",
       "    </tr>\n",
       "  </tbody>\n",
       "</table>\n",
       "</div>"
      ],
      "text/plain": [
       "     Method        F1   ROC-AUC\n",
       "0  CatBoost  0.560216  0.754107\n",
       "1     Const  0.453446  0.500000\n",
       "2    Random  0.374698  0.500000"
      ]
     },
     "execution_count": 30,
     "metadata": {},
     "output_type": "execute_result"
    }
   ],
   "source": [
    "clf = CatBoostClassifier(\n",
    "        eval_metric='F1',\n",
    "        early_stopping_rounds=60,\n",
    "        **study.best_params\n",
    ")\n",
    "clf.fit(X_train, y_train, verbose=False, eval_set=(X_val, y_val))\n",
    "\n",
    "pred_proba = clf.predict_proba(X_test)\n",
    "preds = clf.predict(X_test)\n",
    "test_f1 = f1_score(y_test, preds)\n",
    "test_roc_auc = roc_auc_score(y_test, pred_proba[:, 1])\n",
    "\n",
    "const_preds = [1] * len(y_test)\n",
    "const_f1 = f1_score(y_test, const_preds)\n",
    "\n",
    "\n",
    "random_preds = np.random.choice([0, 1], size=len(y_test))\n",
    "random_f1 = f1_score(y_test, random_preds)\n",
    "\n",
    "\n",
    "metrics = pd.DataFrame(columns=[\"Method\", \"F1\", \"ROC-AUC\"])\n",
    "metrics.loc[len(metrics)] = [\"CatBoost\", test_f1, test_roc_auc]\n",
    "metrics.loc[len(metrics)] = [\"Const\", const_f1, 0.5]\n",
    "metrics.loc[len(metrics)] = [\"Random\", random_f1, 0.5]\n",
    "metrics\n"
   ]
  }
 ],
 "metadata": {
  "kernelspec": {
   "display_name": "Python 3 (ipykernel)",
   "language": "python",
   "name": "python3"
  },
  "language_info": {
   "codemirror_mode": {
    "name": "ipython",
    "version": 3
   },
   "file_extension": ".py",
   "mimetype": "text/x-python",
   "name": "python",
   "nbconvert_exporter": "python",
   "pygments_lexer": "ipython3",
   "version": "3.9.20"
  }
 },
 "nbformat": 4,
 "nbformat_minor": 5
}
