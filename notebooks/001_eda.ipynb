{
 "cells": [
  {
   "cell_type": "code",
   "execution_count": 26,
   "id": "10b79e00-1c62-4eca-ab1e-4bfdf371d079",
   "metadata": {},
   "outputs": [],
   "source": [
    "import pandas as pd\n",
    "import seaborn as sns \n",
    "import numpy as np\n",
    "import matplotlib.pyplot as plt"
   ]
  },
  {
   "cell_type": "code",
   "execution_count": 27,
   "id": "5ce9c791-c541-452f-9dd5-bf85f6f0e4f9",
   "metadata": {},
   "outputs": [],
   "source": [
    "from sklearn.metrics import PrecisionRecallDisplay, precision_recall_curve\n",
    "from sklearn.metrics import f1_score, classification_report"
   ]
  },
  {
   "cell_type": "code",
   "execution_count": 28,
   "id": "831fbb7c-008c-4848-af7c-20282781fd1c",
   "metadata": {},
   "outputs": [],
   "source": [
    "path_to_data = r'/home/kyudin/data/jmcl/'"
   ]
  },
  {
   "cell_type": "markdown",
   "id": "0e1e6c4a-00f3-479b-b99e-9b5b8a046104",
   "metadata": {},
   "source": [
    "# EDA по данным\n",
    "    1) Определение минимального количества просмотров на video_id для получения достоверной оценки доли мужчин/женщин:\n",
    "    \n",
    "    Есть DAG, в котором ежедневно собираются логи просмотров авторизованных пользователей с указанными социально-демографическими данными (пол и/или возраст) с последующей записью статистики в ClickHouse. \n",
    "    В качестве признаков video_id будем собирать статистику просмотров мужчин/женщин на видео. Однако такой признак может получиться довольно шумным, если не задать порог минимального количества просмотров на видео (например, если видео посмотрели 5 мужчин и 0 женщин – то у него 100% мужского сегмента, что может быть далеко не правда)\n",
    "    \n",
    "    Необходимо определить такое минимальное количество просмотров на видео, при котором соотношение мужчин и женщин будет сходиться к истинному с максимальной ошибкой в  10%  (под истинным будем считать статистику видео с количеством просмотров более 100)"
   ]
  },
  {
   "cell_type": "code",
   "execution_count": null,
   "id": "8d4b2c28-27f8-47f0-a971-93177b210908",
   "metadata": {},
   "outputs": [],
   "source": []
  },
  {
   "cell_type": "markdown",
   "id": "2a0bd7f4-216a-4cd3-a5e9-80288e90cd95",
   "metadata": {},
   "source": [
    "### 1. Определение минимального количества просмотров на video_id для получения достоверной оценки доли мужчин/женщин\n",
    "\n",
    "    - Посмотрим на распределение n (количество просмотров на видео) для наборов video_id где:\n",
    "            1) оценка сошлась\n",
    "            2) не сошлась с финальной долей.\n",
    "            \n",
    "    - Отберем порог: построим precision-recall кривую по порогам n\n",
    "    - Будем считать, что recall для нас важнее: хотим определить как можно больше видео с доверительной оценкой доли мужчин\n",
    "    - Полученное значение будем использовать в фильтрации при выгрузке признаков video_id"
   ]
  },
  {
   "cell_type": "code",
   "execution_count": 29,
   "id": "d2d49ebb-bbae-4fe5-b450-4e89d9687df6",
   "metadata": {},
   "outputs": [],
   "source": [
    "video_id_sex_feats = pd.read_csv(path_to_data + 'video_id_sex_feats.csv')"
   ]
  },
  {
   "cell_type": "code",
   "execution_count": 30,
   "id": "e581d8c9-599d-4e59-8509-e39969edaa69",
   "metadata": {},
   "outputs": [
    {
     "data": {
      "text/html": [
       "<div>\n",
       "<style scoped>\n",
       "    .dataframe tbody tr th:only-of-type {\n",
       "        vertical-align: middle;\n",
       "    }\n",
       "\n",
       "    .dataframe tbody tr th {\n",
       "        vertical-align: top;\n",
       "    }\n",
       "\n",
       "    .dataframe thead th {\n",
       "        text-align: right;\n",
       "    }\n",
       "</style>\n",
       "<table border=\"1\" class=\"dataframe\">\n",
       "  <thead>\n",
       "    <tr style=\"text-align: right;\">\n",
       "      <th></th>\n",
       "      <th>report_date</th>\n",
       "      <th>video_id</th>\n",
       "      <th>cumulative_male</th>\n",
       "      <th>cumulative_female</th>\n",
       "      <th>video_users_total</th>\n",
       "    </tr>\n",
       "  </thead>\n",
       "  <tbody>\n",
       "    <tr>\n",
       "      <th>0</th>\n",
       "      <td>2025-02-03</td>\n",
       "      <td>00000886adb138c991f36b38d5ef776f</td>\n",
       "      <td>6</td>\n",
       "      <td>0</td>\n",
       "      <td>6</td>\n",
       "    </tr>\n",
       "    <tr>\n",
       "      <th>1</th>\n",
       "      <td>2025-03-14</td>\n",
       "      <td>00002b74994f00cafcbf2fb796551561</td>\n",
       "      <td>51</td>\n",
       "      <td>153</td>\n",
       "      <td>204</td>\n",
       "    </tr>\n",
       "    <tr>\n",
       "      <th>2</th>\n",
       "      <td>2025-03-15</td>\n",
       "      <td>00002b74994f00cafcbf2fb796551561</td>\n",
       "      <td>69</td>\n",
       "      <td>222</td>\n",
       "      <td>291</td>\n",
       "    </tr>\n",
       "    <tr>\n",
       "      <th>3</th>\n",
       "      <td>2025-03-16</td>\n",
       "      <td>00002b74994f00cafcbf2fb796551561</td>\n",
       "      <td>78</td>\n",
       "      <td>228</td>\n",
       "      <td>306</td>\n",
       "    </tr>\n",
       "    <tr>\n",
       "      <th>4</th>\n",
       "      <td>2025-03-17</td>\n",
       "      <td>00002b74994f00cafcbf2fb796551561</td>\n",
       "      <td>99</td>\n",
       "      <td>258</td>\n",
       "      <td>357</td>\n",
       "    </tr>\n",
       "  </tbody>\n",
       "</table>\n",
       "</div>"
      ],
      "text/plain": [
       "  report_date                          video_id  cumulative_male  \\\n",
       "0  2025-02-03  00000886adb138c991f36b38d5ef776f                6   \n",
       "1  2025-03-14  00002b74994f00cafcbf2fb796551561               51   \n",
       "2  2025-03-15  00002b74994f00cafcbf2fb796551561               69   \n",
       "3  2025-03-16  00002b74994f00cafcbf2fb796551561               78   \n",
       "4  2025-03-17  00002b74994f00cafcbf2fb796551561               99   \n",
       "\n",
       "   cumulative_female  video_users_total  \n",
       "0                  0                  6  \n",
       "1                153                204  \n",
       "2                222                291  \n",
       "3                228                306  \n",
       "4                258                357  "
      ]
     },
     "execution_count": 30,
     "metadata": {},
     "output_type": "execute_result"
    }
   ],
   "source": [
    "video_id_sex_feats.head()"
   ]
  },
  {
   "cell_type": "code",
   "execution_count": 31,
   "id": "e9536c97-9d3f-47e8-a4c2-0b167a78c534",
   "metadata": {},
   "outputs": [],
   "source": [
    "video_id_w_100_views = video_id_sex_feats[video_id_sex_feats['video_users_total'] >= 100]\n",
    "video_id_wo_100_views = video_id_sex_feats[video_id_sex_feats['video_users_total'] < 100]"
   ]
  },
  {
   "cell_type": "code",
   "execution_count": 32,
   "id": "c8768655-afda-408a-a46a-5bff98ab97be",
   "metadata": {},
   "outputs": [],
   "source": [
    "video_id_true_men_ratio = video_id_w_100_views.loc[\n",
    "    video_id_w_100_views.groupby('video_id')['video_users_total'].idxmax()\n",
    "].copy()"
   ]
  },
  {
   "cell_type": "code",
   "execution_count": 33,
   "id": "0fda831f-564f-400d-aa62-f2f510bb5e55",
   "metadata": {},
   "outputs": [
    {
     "data": {
      "text/html": [
       "<div>\n",
       "<style scoped>\n",
       "    .dataframe tbody tr th:only-of-type {\n",
       "        vertical-align: middle;\n",
       "    }\n",
       "\n",
       "    .dataframe tbody tr th {\n",
       "        vertical-align: top;\n",
       "    }\n",
       "\n",
       "    .dataframe thead th {\n",
       "        text-align: right;\n",
       "    }\n",
       "</style>\n",
       "<table border=\"1\" class=\"dataframe\">\n",
       "  <thead>\n",
       "    <tr style=\"text-align: right;\">\n",
       "      <th></th>\n",
       "      <th>report_date</th>\n",
       "      <th>video_id</th>\n",
       "      <th>cumulative_male</th>\n",
       "      <th>cumulative_female</th>\n",
       "      <th>video_users_total</th>\n",
       "      <th>p</th>\n",
       "    </tr>\n",
       "  </thead>\n",
       "  <tbody>\n",
       "    <tr>\n",
       "      <th>16198090</th>\n",
       "      <td>2025-01-08</td>\n",
       "      <td>8057ca9bba6b39c917b1332de4bd7039</td>\n",
       "      <td>104</td>\n",
       "      <td>20</td>\n",
       "      <td>124</td>\n",
       "      <td>0.838710</td>\n",
       "    </tr>\n",
       "    <tr>\n",
       "      <th>11143585</th>\n",
       "      <td>2025-06-07</td>\n",
       "      <td>581c45e95f5435c5c8a669e7b5678b80</td>\n",
       "      <td>536</td>\n",
       "      <td>318</td>\n",
       "      <td>854</td>\n",
       "      <td>0.627635</td>\n",
       "    </tr>\n",
       "    <tr>\n",
       "      <th>12554013</th>\n",
       "      <td>2025-06-14</td>\n",
       "      <td>6353975481c48b8e10d16a879d10252e</td>\n",
       "      <td>4204</td>\n",
       "      <td>5124</td>\n",
       "      <td>9328</td>\n",
       "      <td>0.450686</td>\n",
       "    </tr>\n",
       "    <tr>\n",
       "      <th>25510273</th>\n",
       "      <td>2025-03-28</td>\n",
       "      <td>ca2af5e066d99ee2e58c678be01c121f</td>\n",
       "      <td>820</td>\n",
       "      <td>298</td>\n",
       "      <td>1118</td>\n",
       "      <td>0.733453</td>\n",
       "    </tr>\n",
       "    <tr>\n",
       "      <th>25347086</th>\n",
       "      <td>2025-04-22</td>\n",
       "      <td>c8e264762fa8d6fe0f3f91cc27707828</td>\n",
       "      <td>110</td>\n",
       "      <td>27</td>\n",
       "      <td>137</td>\n",
       "      <td>0.802920</td>\n",
       "    </tr>\n",
       "  </tbody>\n",
       "</table>\n",
       "</div>"
      ],
      "text/plain": [
       "         report_date                          video_id  cumulative_male  \\\n",
       "16198090  2025-01-08  8057ca9bba6b39c917b1332de4bd7039              104   \n",
       "11143585  2025-06-07  581c45e95f5435c5c8a669e7b5678b80              536   \n",
       "12554013  2025-06-14  6353975481c48b8e10d16a879d10252e             4204   \n",
       "25510273  2025-03-28  ca2af5e066d99ee2e58c678be01c121f              820   \n",
       "25347086  2025-04-22  c8e264762fa8d6fe0f3f91cc27707828              110   \n",
       "\n",
       "          cumulative_female  video_users_total         p  \n",
       "16198090                 20                124  0.838710  \n",
       "11143585                318                854  0.627635  \n",
       "12554013               5124               9328  0.450686  \n",
       "25510273                298               1118  0.733453  \n",
       "25347086                 27                137  0.802920  "
      ]
     },
     "execution_count": 33,
     "metadata": {},
     "output_type": "execute_result"
    }
   ],
   "source": [
    "video_id_true_men_ratio['p'] = video_id_true_men_ratio['cumulative_male'] / video_id_true_men_ratio['video_users_total']\n",
    "video_id_true_men_ratio.sample(5)"
   ]
  },
  {
   "cell_type": "code",
   "execution_count": 34,
   "id": "29a68aff-c9cb-411a-80ee-d922c92f2d1f",
   "metadata": {},
   "outputs": [
    {
     "name": "stderr",
     "output_type": "stream",
     "text": [
      "/tmp/ipykernel_1666989/2972252143.py:1: SettingWithCopyWarning: \n",
      "A value is trying to be set on a copy of a slice from a DataFrame.\n",
      "Try using .loc[row_indexer,col_indexer] = value instead\n",
      "\n",
      "See the caveats in the documentation: https://pandas.pydata.org/pandas-docs/stable/user_guide/indexing.html#returning-a-view-versus-a-copy\n",
      "  video_id_wo_100_views['p_estim'] = video_id_wo_100_views['cumulative_male'] / video_id_wo_100_views['video_users_total']\n"
     ]
    },
    {
     "data": {
      "text/html": [
       "<div>\n",
       "<style scoped>\n",
       "    .dataframe tbody tr th:only-of-type {\n",
       "        vertical-align: middle;\n",
       "    }\n",
       "\n",
       "    .dataframe tbody tr th {\n",
       "        vertical-align: top;\n",
       "    }\n",
       "\n",
       "    .dataframe thead th {\n",
       "        text-align: right;\n",
       "    }\n",
       "</style>\n",
       "<table border=\"1\" class=\"dataframe\">\n",
       "  <thead>\n",
       "    <tr style=\"text-align: right;\">\n",
       "      <th></th>\n",
       "      <th>report_date</th>\n",
       "      <th>video_id</th>\n",
       "      <th>cumulative_male</th>\n",
       "      <th>cumulative_female</th>\n",
       "      <th>video_users_total</th>\n",
       "      <th>p_estim</th>\n",
       "      <th>p</th>\n",
       "    </tr>\n",
       "  </thead>\n",
       "  <tbody>\n",
       "    <tr>\n",
       "      <th>0</th>\n",
       "      <td>2024-09-22</td>\n",
       "      <td>00004cc918ea9832e88a94a68445d9a7</td>\n",
       "      <td>8</td>\n",
       "      <td>0</td>\n",
       "      <td>8</td>\n",
       "      <td>1.000000</td>\n",
       "      <td>0.925926</td>\n",
       "    </tr>\n",
       "    <tr>\n",
       "      <th>1</th>\n",
       "      <td>2024-09-23</td>\n",
       "      <td>00004cc918ea9832e88a94a68445d9a7</td>\n",
       "      <td>16</td>\n",
       "      <td>4</td>\n",
       "      <td>20</td>\n",
       "      <td>0.800000</td>\n",
       "      <td>0.925926</td>\n",
       "    </tr>\n",
       "    <tr>\n",
       "      <th>2</th>\n",
       "      <td>2024-09-24</td>\n",
       "      <td>00004cc918ea9832e88a94a68445d9a7</td>\n",
       "      <td>28</td>\n",
       "      <td>4</td>\n",
       "      <td>32</td>\n",
       "      <td>0.875000</td>\n",
       "      <td>0.925926</td>\n",
       "    </tr>\n",
       "    <tr>\n",
       "      <th>3</th>\n",
       "      <td>2024-09-25</td>\n",
       "      <td>00004cc918ea9832e88a94a68445d9a7</td>\n",
       "      <td>36</td>\n",
       "      <td>4</td>\n",
       "      <td>40</td>\n",
       "      <td>0.900000</td>\n",
       "      <td>0.925926</td>\n",
       "    </tr>\n",
       "    <tr>\n",
       "      <th>4</th>\n",
       "      <td>2024-09-26</td>\n",
       "      <td>00004cc918ea9832e88a94a68445d9a7</td>\n",
       "      <td>52</td>\n",
       "      <td>4</td>\n",
       "      <td>56</td>\n",
       "      <td>0.928571</td>\n",
       "      <td>0.925926</td>\n",
       "    </tr>\n",
       "  </tbody>\n",
       "</table>\n",
       "</div>"
      ],
      "text/plain": [
       "  report_date                          video_id  cumulative_male  \\\n",
       "0  2024-09-22  00004cc918ea9832e88a94a68445d9a7                8   \n",
       "1  2024-09-23  00004cc918ea9832e88a94a68445d9a7               16   \n",
       "2  2024-09-24  00004cc918ea9832e88a94a68445d9a7               28   \n",
       "3  2024-09-25  00004cc918ea9832e88a94a68445d9a7               36   \n",
       "4  2024-09-26  00004cc918ea9832e88a94a68445d9a7               52   \n",
       "\n",
       "   cumulative_female  video_users_total   p_estim         p  \n",
       "0                  0                  8  1.000000  0.925926  \n",
       "1                  4                 20  0.800000  0.925926  \n",
       "2                  4                 32  0.875000  0.925926  \n",
       "3                  4                 40  0.900000  0.925926  \n",
       "4                  4                 56  0.928571  0.925926  "
      ]
     },
     "execution_count": 34,
     "metadata": {},
     "output_type": "execute_result"
    }
   ],
   "source": [
    "video_id_wo_100_views['p_estim'] = video_id_wo_100_views['cumulative_male'] / video_id_wo_100_views['video_users_total']\n",
    "\n",
    "video_id_wo_100_views = (\n",
    "    video_id_wo_100_views\n",
    "    .merge(\n",
    "        video_id_true_men_ratio[['video_id', 'p']],\n",
    "        on='video_id',\n",
    "        how='inner'\n",
    "    )\n",
    ")\n",
    "\n",
    "video_id_wo_100_views.head()"
   ]
  },
  {
   "cell_type": "code",
   "execution_count": 35,
   "id": "116f57a0-4e0d-4edb-b8d9-15788e604223",
   "metadata": {},
   "outputs": [
    {
     "data": {
      "text/html": [
       "<div>\n",
       "<style scoped>\n",
       "    .dataframe tbody tr th:only-of-type {\n",
       "        vertical-align: middle;\n",
       "    }\n",
       "\n",
       "    .dataframe tbody tr th {\n",
       "        vertical-align: top;\n",
       "    }\n",
       "\n",
       "    .dataframe thead th {\n",
       "        text-align: right;\n",
       "    }\n",
       "</style>\n",
       "<table border=\"1\" class=\"dataframe\">\n",
       "  <thead>\n",
       "    <tr style=\"text-align: right;\">\n",
       "      <th></th>\n",
       "      <th>report_date</th>\n",
       "      <th>video_id</th>\n",
       "      <th>cumulative_male</th>\n",
       "      <th>cumulative_female</th>\n",
       "      <th>video_users_total</th>\n",
       "      <th>p_estim</th>\n",
       "      <th>p</th>\n",
       "      <th>acc_err</th>\n",
       "    </tr>\n",
       "  </thead>\n",
       "  <tbody>\n",
       "    <tr>\n",
       "      <th>0</th>\n",
       "      <td>2024-09-22</td>\n",
       "      <td>00004cc918ea9832e88a94a68445d9a7</td>\n",
       "      <td>8</td>\n",
       "      <td>0</td>\n",
       "      <td>8</td>\n",
       "      <td>1.000000</td>\n",
       "      <td>0.925926</td>\n",
       "      <td>True</td>\n",
       "    </tr>\n",
       "    <tr>\n",
       "      <th>1</th>\n",
       "      <td>2024-09-23</td>\n",
       "      <td>00004cc918ea9832e88a94a68445d9a7</td>\n",
       "      <td>16</td>\n",
       "      <td>4</td>\n",
       "      <td>20</td>\n",
       "      <td>0.800000</td>\n",
       "      <td>0.925926</td>\n",
       "      <td>False</td>\n",
       "    </tr>\n",
       "    <tr>\n",
       "      <th>2</th>\n",
       "      <td>2024-09-24</td>\n",
       "      <td>00004cc918ea9832e88a94a68445d9a7</td>\n",
       "      <td>28</td>\n",
       "      <td>4</td>\n",
       "      <td>32</td>\n",
       "      <td>0.875000</td>\n",
       "      <td>0.925926</td>\n",
       "      <td>True</td>\n",
       "    </tr>\n",
       "    <tr>\n",
       "      <th>3</th>\n",
       "      <td>2024-09-25</td>\n",
       "      <td>00004cc918ea9832e88a94a68445d9a7</td>\n",
       "      <td>36</td>\n",
       "      <td>4</td>\n",
       "      <td>40</td>\n",
       "      <td>0.900000</td>\n",
       "      <td>0.925926</td>\n",
       "      <td>True</td>\n",
       "    </tr>\n",
       "    <tr>\n",
       "      <th>4</th>\n",
       "      <td>2024-09-26</td>\n",
       "      <td>00004cc918ea9832e88a94a68445d9a7</td>\n",
       "      <td>52</td>\n",
       "      <td>4</td>\n",
       "      <td>56</td>\n",
       "      <td>0.928571</td>\n",
       "      <td>0.925926</td>\n",
       "      <td>True</td>\n",
       "    </tr>\n",
       "  </tbody>\n",
       "</table>\n",
       "</div>"
      ],
      "text/plain": [
       "  report_date                          video_id  cumulative_male  \\\n",
       "0  2024-09-22  00004cc918ea9832e88a94a68445d9a7                8   \n",
       "1  2024-09-23  00004cc918ea9832e88a94a68445d9a7               16   \n",
       "2  2024-09-24  00004cc918ea9832e88a94a68445d9a7               28   \n",
       "3  2024-09-25  00004cc918ea9832e88a94a68445d9a7               36   \n",
       "4  2024-09-26  00004cc918ea9832e88a94a68445d9a7               52   \n",
       "\n",
       "   cumulative_female  video_users_total   p_estim         p  acc_err  \n",
       "0                  0                  8  1.000000  0.925926     True  \n",
       "1                  4                 20  0.800000  0.925926    False  \n",
       "2                  4                 32  0.875000  0.925926     True  \n",
       "3                  4                 40  0.900000  0.925926     True  \n",
       "4                  4                 56  0.928571  0.925926     True  "
      ]
     },
     "execution_count": 35,
     "metadata": {},
     "output_type": "execute_result"
    }
   ],
   "source": [
    "video_id_wo_100_views['acc_err'] = (video_id_wo_100_views['p_estim'] - video_id_wo_100_views['p']).abs() < 0.10\n",
    "video_id_wo_100_views.head()"
   ]
  },
  {
   "cell_type": "code",
   "execution_count": 36,
   "id": "0c203c50-e4d8-4852-9c73-c53b37b5553a",
   "metadata": {},
   "outputs": [],
   "source": [
    "video_id_wo_100_views_true = video_id_wo_100_views[video_id_wo_100_views['acc_err'] == True]\n",
    "\n",
    "video_id_converg_stats = video_id_wo_100_views_true.loc[\n",
    "    video_id_wo_100_views_true.groupby('video_id')['video_users_total'].idxmin()\n",
    "]"
   ]
  },
  {
   "cell_type": "code",
   "execution_count": 50,
   "id": "ec101f6c-cdfb-49b8-86b5-d4d6c704270d",
   "metadata": {},
   "outputs": [
    {
     "data": {
      "image/png": "[encoded data removed]",
      "text/plain": [
       "<Figure size 640x480 with 1 Axes>"
      ]
     },
     "metadata": {},
     "output_type": "display_data"
    }
   ],
   "source": [
    "sns.kdeplot(\n",
    "    video_id_converg_stats['video_users_total']\n",
    ").set_title('Распределение количества просмотров на видео, доля мужчин которого сошлась с конечной')\n",
    "plt.grid()"
   ]
  },
  {
   "cell_type": "code",
   "execution_count": 51,
   "id": "633255b3-a9bc-4467-b87e-f2c910d7170f",
   "metadata": {},
   "outputs": [
    {
     "data": {
      "text/plain": [
       "count    415393.000000\n",
       "mean         36.523706\n",
       "std          25.764305\n",
       "min           5.000000\n",
       "25%          15.000000\n",
       "50%          30.000000\n",
       "75%          54.000000\n",
       "max          99.000000\n",
       "Name: video_users_total, dtype: float64"
      ]
     },
     "execution_count": 51,
     "metadata": {},
     "output_type": "execute_result"
    }
   ],
   "source": [
    "video_id_converg_stats['video_users_total'].describe()"
   ]
  },
  {
   "cell_type": "code",
   "execution_count": 39,
   "id": "dda65acc-d8e9-4bd5-b16a-621669a64ca2",
   "metadata": {},
   "outputs": [],
   "source": [
    "video_id_wo_100_views_false = video_id_wo_100_views[video_id_wo_100_views['acc_err'] == False]\n",
    "\n",
    "video_id_not_converg_stats = video_id_wo_100_views_false.loc[\n",
    "    video_id_wo_100_views_false.groupby('video_id')['video_users_total'].idxmax()\n",
    "]"
   ]
  },
  {
   "cell_type": "code",
   "execution_count": 53,
   "id": "ff7d42a3-93a9-4a3e-a6d7-a50061263a42",
   "metadata": {},
   "outputs": [
    {
     "data": {
      "image/png": "[encoded data removed]",
      "text/plain": [
       "<Figure size 640x480 with 1 Axes>"
      ]
     },
     "metadata": {},
     "output_type": "display_data"
    }
   ],
   "source": [
    "sns.kdeplot(video_id_not_converg_stats['video_users_total'])\\\n",
    "    .set_title('Распределение количества просмотров на видео, доля мужчин которого не сошлась с конечной')\n",
    "plt.grid()"
   ]
  },
  {
   "cell_type": "code",
   "execution_count": 41,
   "id": "ecb18347-c0b2-4a17-940c-7a91f1ee2912",
   "metadata": {},
   "outputs": [
    {
     "data": {
      "text/plain": [
       "count    293575.000000\n",
       "mean         49.525910\n",
       "std          29.784577\n",
       "min           5.000000\n",
       "25%          24.000000\n",
       "50%          46.000000\n",
       "75%          78.000000\n",
       "max          99.000000\n",
       "Name: video_users_total, dtype: float64"
      ]
     },
     "execution_count": 41,
     "metadata": {},
     "output_type": "execute_result"
    }
   ],
   "source": [
    "video_id_not_converg_stats['video_users_total'].describe()"
   ]
  },
  {
   "cell_type": "code",
   "execution_count": 54,
   "id": "2f4740e9-5443-4c8a-a8cd-83e5154da60a",
   "metadata": {},
   "outputs": [
    {
     "data": {
      "image/png": "[encoded data removed]",
      "text/plain": [
       "<Figure size 640x480 with 1 Axes>"
      ]
     },
     "metadata": {},
     "output_type": "display_data"
    }
   ],
   "source": [
    "y = video_id_wo_100_views['acc_err'].astype(int).values # 1 – сходится, 0 – не сходится\n",
    "video_users_score = video_id_wo_100_views['video_users_total'].values\n",
    "\n",
    "prec, recall, thresholds = precision_recall_curve(y, video_users_score)\n",
    "pr_display = PrecisionRecallDisplay(precision=prec, recall=recall).plot()"
   ]
  },
  {
   "cell_type": "code",
   "execution_count": 57,
   "id": "9d25edfa-db16-496c-8da3-959d8878c78f",
   "metadata": {},
   "outputs": [
    {
     "data": {
      "text/plain": [
       "(0.8038812825248179, 33)"
      ]
     },
     "execution_count": 57,
     "metadata": {},
     "output_type": "execute_result"
    }
   ],
   "source": [
    "mask = recall <= 0.81\n",
    "first_index = np.argmax(mask)\n",
    "\n",
    "recall[first_index], thresholds[first_index]"
   ]
  },
  {
   "cell_type": "code",
   "execution_count": 56,
   "id": "7eb4e6f5-8615-468d-b8a6-33c4b43e7681",
   "metadata": {},
   "outputs": [
    {
     "data": {
      "text/plain": [
       "0.771613725959033"
      ]
     },
     "execution_count": 56,
     "metadata": {},
     "output_type": "execute_result"
    }
   ],
   "source": [
    "y_pred = np.array([0] * len(video_users_score))\n",
    "pos_mask = np.where(video_users_score >= thresholds[first_index])\n",
    "y_pred[pos_mask] = 1\n",
    "f1_score(y, y_pred)"
   ]
  },
  {
   "cell_type": "code",
   "execution_count": 58,
   "id": "74fd320a-f9b9-4940-aacc-ca8f94902980",
   "metadata": {},
   "outputs": [
    {
     "name": "stdout",
     "output_type": "stream",
     "text": [
      "              precision    recall  f1-score   support\n",
      "\n",
      "           0       0.58      0.49      0.53   1293761\n",
      "           1       0.74      0.80      0.77   2348399\n",
      "\n",
      "    accuracy                           0.69   3642160\n",
      "   macro avg       0.66      0.65      0.65   3642160\n",
      "weighted avg       0.68      0.69      0.69   3642160\n",
      "\n"
     ]
    }
   ],
   "source": [
    "print(\n",
    "    classification_report(y, y_pred)\n",
    ")"
   ]
  },
  {
   "cell_type": "markdown",
   "id": "12e0646b-a164-4753-9bf6-5a34eef717d1",
   "metadata": {},
   "source": [
    "## Выводы\n",
    "    - 33 – минимальное количество просмотров на видео, при котором статистику будем считать доверительной\n",
    "    - Порог немного смещенный, например, заметно большое количество video_id которые сошлись при n < 10 (по сути шум), возьмем 40"
   ]
  }
 ],
 "metadata": {
  "kernelspec": {
   "display_name": "Python 3 (ipykernel)",
   "language": "python",
   "name": "python3"
  },
  "language_info": {
   "codemirror_mode": {
    "name": "ipython",
    "version": 3
   },
   "file_extension": ".py",
   "mimetype": "text/x-python",
   "name": "python",
   "nbconvert_exporter": "python",
   "pygments_lexer": "ipython3",
   "version": "3.9.20"
  }
 },
 "nbformat": 4,
 "nbformat_minor": 5
}
