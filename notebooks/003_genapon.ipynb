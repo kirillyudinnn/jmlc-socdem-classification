{
 "cells": [
  {
   "cell_type": "code",
   "execution_count": 37,
   "id": "344fa652-4945-415f-ac8b-774ff20f983e",
   "metadata": {},
   "outputs": [],
   "source": [
    "import torch \n",
    "import torch.nn as nn\n",
    "import torch.nn.functional as F\n",
    "from torch.utils.data import DataLoader"
   ]
  },
  {
   "cell_type": "code",
   "execution_count": 38,
   "id": "fbdea2b2-6deb-4519-b870-60ea183219c8",
   "metadata": {},
   "outputs": [],
   "source": [
    "import importlib\n",
    "import genapon\n",
    "import genapon.ffn as ffn\n",
    "importlib.reload(ffn)\n",
    "importlib.reload(genapon)\n",
    "importlib.reload(genapon.deepsets_model)\n",
    "from genapon import trainer\n",
    "importlib.reload(trainer)\n",
    "from genapon.trainer import Trainer\n",
    "from tqdm import tqdm\n",
    "from genapon import dataloader\n",
    "from genapon import model\n",
    "importlib.reload(dataloader)\n",
    "importlib.reload(model)\n",
    "from genapon.dataloader import UserViewsDataset\n",
    "from genapon.model import GENAPON\n",
    "import pandas as pd\n",
    "import numpy as np\n",
    "import seaborn as sns"
   ]
  },
  {
   "cell_type": "code",
   "execution_count": 39,
   "id": "0b5f34ca-7398-4842-b05a-b81e65e73b4c",
   "metadata": {},
   "outputs": [],
   "source": [
    "from typing import Dict, Any"
   ]
  },
  {
   "cell_type": "code",
   "execution_count": null,
   "id": "c7826598-e16a-4e7f-85de-2a833ea43841",
   "metadata": {},
   "outputs": [],
   "source": [
    "path = r'/home/kyudin/jmlc/data/'\n",
    "data = pd.read_csv(path + 'auth_users_gender_events.csv')\n",
    "sex_labels = pd.read_csv(path + 'auth_sex_labels.csv')\n",
    "user_features = pd.read_csv(path + \"user_features.csv\")"
   ]
  },
  {
   "cell_type": "code",
   "execution_count": 5,
   "id": "dd3f3429-96c5-4abc-aa78-58ffd044e8d6",
   "metadata": {},
   "outputs": [],
   "source": [
    "sex_labels['target'] = sex_labels['sex'].map({'male' : 0, 'female' : 1})\n",
    "sex_labels = sex_labels.set_index('viewer_id')"
   ]
  },
  {
   "cell_type": "code",
   "execution_count": 6,
   "id": "c10ca3a5-c8dd-489a-9595-449e93b391fc",
   "metadata": {},
   "outputs": [],
   "source": [
    "data['event_date'] = pd.to_datetime(data['event_date'])\n",
    "data['ua_os'].fillna('', inplace=True)"
   ]
  },
  {
   "cell_type": "code",
   "execution_count": 7,
   "id": "04aac26e-c23a-463f-a112-68a40626792c",
   "metadata": {},
   "outputs": [],
   "source": [
    "video_vc = data['video_id'].value_counts()\n",
    "min_15_views = video_vc[video_vc >= 15].index\n",
    "data = data[data['video_id'].isin(min_15_views)]\n",
    "user_vc = data['viewer_id'].value_counts()"
   ]
  },
  {
   "cell_type": "code",
   "execution_count": 8,
   "id": "29758922-b3a5-445e-827d-9b478cb5b9db",
   "metadata": {},
   "outputs": [],
   "source": [
    "data = data[data['viewer_id'].isin(user_vc[user_vc >= 5].index)]"
   ]
  },
  {
   "cell_type": "code",
   "execution_count": 9,
   "id": "6bb3380e-0713-4191-9add-102e62b85978",
   "metadata": {},
   "outputs": [],
   "source": [
    "data['week'] = \\\n",
    "pd.cut(\n",
    "    x=data['event_date'],\n",
    "    bins=[pd.to_datetime(dt) for dt in['2025-05-25', '2025-06-01', '2025-06-08', '2025-06-15']],\n",
    "    labels=[0, 1, 2]\n",
    ")"
   ]
  },
  {
   "cell_type": "code",
   "execution_count": 10,
   "id": "8535254a-61bb-4983-99c7-00ac89d475f0",
   "metadata": {},
   "outputs": [],
   "source": [
    "data['day_of_month'] = data['event_date'].dt.day\n",
    "unique_dow = data[\"day_of_week\"].unique()\n",
    "dow2token = {os: idx for idx, os in enumerate(unique_dow)}\n",
    "data[\"day_of_week\"] = data[\"day_of_week\"].map(dow2token)"
   ]
  },
  {
   "cell_type": "code",
   "execution_count": 11,
   "id": "e8af4917-2590-49cf-a4b0-6c8a3450fb50",
   "metadata": {},
   "outputs": [],
   "source": [
    "time_events_cols = ['day_of_week', 'local_hour', 'week', 'day_of_month']\n",
    "data.loc[:, time_events_cols] = data.loc[:, time_events_cols].astype(np.float64)"
   ]
  },
  {
   "cell_type": "code",
   "execution_count": 12,
   "id": "44f5212d-f303-4f73-a8ac-d1fc4bda951a",
   "metadata": {},
   "outputs": [],
   "source": [
    "def train_val_test_split(\n",
    "    labels: pd.DataFrame,\n",
    "    train_size: float,\n",
    "    val_size: float\n",
    "):\n",
    "    \"\"\"\n",
    "    Args:\n",
    "        labels (pd.DataFrame): Authorized users age/sex DataFrame\n",
    "        train_size (float): train size\n",
    "        val_size (float): validation size \n",
    "\n",
    "    Returns:\n",
    "        Train/Val/Test DataFrames with labels\n",
    "    \"\"\"\n",
    "\n",
    "    assert labels[\"viewer_id\"].nunique() == len(labels), \"...\"\n",
    "\n",
    "    unique_users = labels['viewer_id'].to_numpy().copy()\n",
    "    np.random.shuffle(unique_users)\n",
    "\n",
    "    n_users = len(unique_users)\n",
    "    n_train = int(n_users * train_size)\n",
    "    n_val = int(n_users * val_size)\n",
    "\n",
    "\n",
    "    train_users = unique_users[:n_train]\n",
    "    val_users = unique_users[n_train:n_train + n_val]\n",
    "    test_users = unique_users[n_train + n_val:]\n",
    "\n",
    "    train_labels = labels[labels[\"viewer_id\"].isin(train_users)].copy()\n",
    "    val_labels = labels[labels[\"viewer_id\"].isin(val_users)].copy()\n",
    "    test_labels = labels[labels[\"viewer_id\"].isin(test_users)].copy()\n",
    "\n",
    "    return train_labels, val_labels, test_labels"
   ]
  },
  {
   "cell_type": "code",
   "execution_count": 13,
   "id": "686f1e47-9b24-4db1-ae94-9ffe164ef337",
   "metadata": {},
   "outputs": [],
   "source": [
    "train_labels, val_labels, test_labels = train_val_test_split(sex_labels.reset_index(), train_size=0.7, val_size=0.1)"
   ]
  },
  {
   "cell_type": "code",
   "execution_count": 14,
   "id": "5f8cfc53-3a89-4a58-91f0-081ec1374780",
   "metadata": {},
   "outputs": [],
   "source": [
    "train_events = data[data['viewer_id'].isin(train_labels['viewer_id'])].copy()\n",
    "val_events = data[data['viewer_id'].isin(val_labels['viewer_id'])].copy()\n",
    "test_events = data[data['viewer_id'].isin(test_labels['viewer_id'])].copy()"
   ]
  },
  {
   "cell_type": "code",
   "execution_count": 15,
   "id": "fe14a54d-626a-44b5-8376-a533d813a653",
   "metadata": {},
   "outputs": [],
   "source": [
    "train_user_features = user_features[user_features['viewer_id'].isin(train_labels['viewer_id'])].copy()\n",
    "val_user_features = user_features[user_features['viewer_id'].isin(val_labels['viewer_id'])].copy()\n",
    "test_user_features = user_features[user_features['viewer_id'].isin(test_labels['viewer_id'])].copy()"
   ]
  },
  {
   "cell_type": "code",
   "execution_count": 16,
   "id": "db8f66a2-9588-491d-aa70-4bb3d42262cd",
   "metadata": {},
   "outputs": [],
   "source": [
    "unique_videos = train_events['video_id'].unique()\n",
    "video2token = {video: idx for idx, video in enumerate(unique_videos)}\n",
    "\n",
    "train_events[\"video_id\"] = train_events[\"video_id\"].map(video2token)\n",
    "val_events[\"video_id\"] = val_events[\"video_id\"].map(video2token)\n",
    "test_events[\"video_id\"] = test_events[\"video_id\"].map(video2token)"
   ]
  },
  {
   "cell_type": "code",
   "execution_count": 17,
   "id": "dfedac59-4feb-4d75-9e22-24ccd15282b8",
   "metadata": {},
   "outputs": [
    {
     "data": {
      "text/plain": [
       "(0.00010400506157966355, 0.00014124027796086702)"
      ]
     },
     "execution_count": 17,
     "metadata": {},
     "output_type": "execute_result"
    }
   ],
   "source": [
    "val_events['video_id'].isna().sum() / len(val_events), test_events['video_id'].isna().sum() / len(test_events)"
   ]
  },
  {
   "cell_type": "code",
   "execution_count": 18,
   "id": "bfb5408d-6469-4b2d-86a4-7cb51444f1c2",
   "metadata": {},
   "outputs": [],
   "source": [
    "UNK_TOKEN = train_events['video_id'].nunique()\n",
    "val_events['video_id'] = val_events['video_id'].fillna(UNK_TOKEN).astype(int)\n",
    "test_events['video_id'] = test_events['video_id'].fillna(UNK_TOKEN).astype(int)"
   ]
  },
  {
   "cell_type": "code",
   "execution_count": 19,
   "id": "588726f4-26db-4b10-ae7d-9d1adea363ee",
   "metadata": {},
   "outputs": [],
   "source": [
    "train_labels = train_labels.set_index('viewer_id')\n",
    "val_labels = val_labels.set_index('viewer_id')\n",
    "test_labels = test_labels.set_index('viewer_id')\n",
    "\n",
    "\n",
    "train_user_features = train_user_features.set_index('viewer_id')\n",
    "val_user_features = val_user_features.set_index('viewer_id')\n",
    "test_user_features = test_user_features.set_index('viewer_id')"
   ]
  },
  {
   "cell_type": "code",
   "execution_count": 40,
   "id": "180224ec-3e97-4801-a096-675c5ff9b6bc",
   "metadata": {},
   "outputs": [],
   "source": [
    "train_dataset = UserViewsDataset(train_events, train_labels['target'], train_user_features)\n",
    "val_dataset = UserViewsDataset(val_events, val_labels['target'], val_user_features)\n",
    "test_dataset = UserViewsDataset(test_events, test_labels['target'], test_user_features)\n",
    "\n",
    "\n",
    "BATCH_SIZE = 2048 * 4\n",
    "train_dataloader = DataLoader(train_dataset, batch_size=BATCH_SIZE, shuffle=True, collate_fn=train_dataset.collate_fn)\n",
    "val_dataloader = DataLoader(val_dataset, batch_size=BATCH_SIZE*2, shuffle=False, collate_fn=val_dataset.collate_fn)\n",
    "test_dataloader = DataLoader(test_dataset, batch_size=BATCH_SIZE*2, shuffle=False, collate_fn=test_dataset.collate_fn)"
   ]
  },
  {
   "cell_type": "code",
   "execution_count": 41,
   "id": "fd67a67d-be63-4580-a985-8efcf1e0bc49",
   "metadata": {},
   "outputs": [],
   "source": [
    "TIME_VECTOR_SIZE = 16\n",
    "VIDEO_VECTOR_SIZE = 128\n",
    "DEVICE = \"cuda\"\n",
    "\n",
    "ModelConfig = {\n",
    "    \"device\" : DEVICE,\n",
    "    \"v_num_embeddings\" : train_events['video_id'].nunique() + 1,\n",
    "    \"v_embedding_dim\" : VIDEO_VECTOR_SIZE,\n",
    "    \n",
    "   # LSTM Time2Vec layer\n",
    "    \"time_vector_input_size\" : TIME_VECTOR_SIZE,\n",
    "    \"time_vector_hidden_size\" : 16,\n",
    "\n",
    "\n",
    "    # DeepSets Video FFN layer\n",
    "    \"v_hidden_dim\" : 512,\n",
    "    \"v_output_dim\" : 256,\n",
    "\n",
    "    # LSTM(Time2Vec) FFN layer\n",
    "    \"t_hidden_dim\" : 32,\n",
    "    \"t_output_dim\" : 32,\n",
    "\n",
    "    # User Features FFN layer\n",
    "    \"user_features_dim\" : train_user_features.shape[1],\n",
    "    \"u_hidden_dim\" : train_user_features.shape[1],\n",
    "    \"u_output_dim\" : train_user_features.shape[1],\n",
    "\n",
    "    # Classification FFN layer\n",
    "    \"c_hidden_dim\" : 256,\n",
    "    \"c_output_dim\" : 1\n",
    "    \n",
    "}\n",
    "\n",
    "RhoConfig = {\n",
    "    \"out_features\" : 256,\n",
    "    \"in_features\" : 128,\n",
    "}\n",
    "\n",
    "PhiConfig = {\n",
    "    \"emb_dim\" : VIDEO_VECTOR_SIZE,\n",
    "    \"out_features\" : 128\n",
    "}\n",
    "\n",
    "T2vConfig = {\n",
    "    \"in_features\" : 4,\n",
    "    \"emb_dim\" : TIME_VECTOR_SIZE\n",
    "}"
   ]
  },
  {
   "cell_type": "code",
   "execution_count": 42,
   "id": "9805cee1-53d4-414b-8f7e-0601cf2cb8fd",
   "metadata": {},
   "outputs": [],
   "source": [
    "clf = GENAPON(\n",
    "    ModelConfig,\n",
    "    RhoConfig,\n",
    "    PhiConfig,\n",
    "    T2vConfig\n",
    ")"
   ]
  },
  {
   "cell_type": "code",
   "execution_count": 45,
   "id": "3f9affcb-ce99-42e7-856b-9f778b3dbf7c",
   "metadata": {},
   "outputs": [
    {
     "name": "stderr",
     "output_type": "stream",
     "text": [
      "Failed accessing the jupyter server: 504 Server Error: Gateway Timeout for url: http://localhost:8085/api/sessions\n"
     ]
    },
    {
     "name": "stdout",
     "output_type": "stream",
     "text": [
      "ClearML Task: created new task id=33c3609be22844b78be09d283e4cf294\n",
      "ClearML results page: https://clearml.rutube.dev/projects/7706d1af111e46ce839bcbd6457fe920/experiments/33c3609be22844b78be09d283e4cf294/output/log\n",
      "ClearML Monitor: Could not detect iteration reporting, falling back to iterations as seconds-from-start\n"
     ]
    }
   ],
   "source": [
    "clf_trainer = Trainer(\n",
    "    device=DEVICE,\n",
    "    verbose=True,\n",
    "    clearml=True\n",
    ")"
   ]
  },
  {
   "cell_type": "code",
   "execution_count": 46,
   "id": "84984526-2cfb-4ca3-a169-36fdc9220ed6",
   "metadata": {},
   "outputs": [
    {
     "name": "stdout",
     "output_type": "stream",
     "text": [
      "\u001b[2m2025-07-08 12:26:20\u001b[0m [\u001b[32m\u001b[1minfo     \u001b[0m] \u001b[1m\n",
      "Epoch 1/15                   \u001b[0m\n",
      "\u001b[2m2025-07-08 12:26:20\u001b[0m [\u001b[32m\u001b[1minfo     \u001b[0m] \u001b[1m------------------------------\u001b[0m\n"
     ]
    },
    {
     "name": "stderr",
     "output_type": "stream",
     "text": [
      "Training: 100%|███████████████████████████████████████████████████████████████████████████████████████████████████████████████████████████████████████████████████████████████████████████████████████████████████████████████████████████████████| 31/31 [07:52<00:00, 15.23s/it]\n",
      "Validation: 100%|███████████████████████████████████████████████████████████████████████████████████████████████████████████████████████████████████████████████████████████████████████████████████████████████████████████████████████████████████| 3/3 [01:07<00:00, 22.35s/it]\n"
     ]
    },
    {
     "name": "stdout",
     "output_type": "stream",
     "text": [
      "\u001b[2m2025-07-08 12:35:22\u001b[0m [\u001b[32m\u001b[1minfo     \u001b[0m] \u001b[1m\n",
      "                Train Loss: 0.5831 | Val Loss: 0.5211\n",
      "                Train F1 score: 0.4928 | Val F1 score: 0.5752\n",
      "                Train AUC: 0.6447 | Val AUC: 0.7617\n",
      "                Learning rate: 1.00e-03\n",
      "            \u001b[0m\n",
      "\u001b[2m2025-07-08 12:35:22\u001b[0m [\u001b[32m\u001b[1minfo     \u001b[0m] \u001b[1m\n",
      "Epoch 2/15                   \u001b[0m\n",
      "\u001b[2m2025-07-08 12:35:22\u001b[0m [\u001b[32m\u001b[1minfo     \u001b[0m] \u001b[1m------------------------------\u001b[0m\n"
     ]
    },
    {
     "name": "stderr",
     "output_type": "stream",
     "text": [
      "Training: 100%|███████████████████████████████████████████████████████████████████████████████████████████████████████████████████████████████████████████████████████████████████████████████████████████████████████████████████████████████████| 31/31 [07:47<00:00, 15.08s/it]\n",
      "Validation: 100%|███████████████████████████████████████████████████████████████████████████████████████████████████████████████████████████████████████████████████████████████████████████████████████████████████████████████████████████████████| 3/3 [01:06<00:00, 22.23s/it]\n"
     ]
    },
    {
     "name": "stdout",
     "output_type": "stream",
     "text": [
      "\u001b[2m2025-07-08 12:44:20\u001b[0m [\u001b[32m\u001b[1minfo     \u001b[0m] \u001b[1m\n",
      "                Train Loss: 0.5154 | Val Loss: 0.4943\n",
      "                Train F1 score: 0.5769 | Val F1 score: 0.5938\n",
      "                Train AUC: 0.7598 | Val AUC: 0.7832\n",
      "                Learning rate: 1.00e-03\n",
      "            \u001b[0m\n",
      "\u001b[2m2025-07-08 12:44:20\u001b[0m [\u001b[32m\u001b[1minfo     \u001b[0m] \u001b[1m\n",
      "Epoch 3/15                   \u001b[0m\n",
      "\u001b[2m2025-07-08 12:44:20\u001b[0m [\u001b[32m\u001b[1minfo     \u001b[0m] \u001b[1m------------------------------\u001b[0m\n"
     ]
    },
    {
     "name": "stderr",
     "output_type": "stream",
     "text": [
      "Training: 100%|███████████████████████████████████████████████████████████████████████████████████████████████████████████████████████████████████████████████████████████████████████████████████████████████████████████████████████████████████| 31/31 [07:49<00:00, 15.14s/it]\n",
      "Validation: 100%|███████████████████████████████████████████████████████████████████████████████████████████████████████████████████████████████████████████████████████████████████████████████████████████████████████████████████████████████████| 3/3 [01:06<00:00, 22.00s/it]\n"
     ]
    },
    {
     "name": "stdout",
     "output_type": "stream",
     "text": [
      "\u001b[2m2025-07-08 12:53:19\u001b[0m [\u001b[32m\u001b[1minfo     \u001b[0m] \u001b[1m\n",
      "                Train Loss: 0.5012 | Val Loss: 0.4877\n",
      "                Train F1 score: 0.5898 | Val F1 score: 0.5986\n",
      "                Train AUC: 0.7760 | Val AUC: 0.7897\n",
      "                Learning rate: 1.00e-03\n",
      "            \u001b[0m\n",
      "\u001b[2m2025-07-08 12:53:19\u001b[0m [\u001b[32m\u001b[1minfo     \u001b[0m] \u001b[1m\n",
      "Epoch 4/15                   \u001b[0m\n",
      "\u001b[2m2025-07-08 12:53:19\u001b[0m [\u001b[32m\u001b[1minfo     \u001b[0m] \u001b[1m------------------------------\u001b[0m\n"
     ]
    },
    {
     "name": "stderr",
     "output_type": "stream",
     "text": [
      "Training: 100%|███████████████████████████████████████████████████████████████████████████████████████████████████████████████████████████████████████████████████████████████████████████████████████████████████████████████████████████████████| 31/31 [07:47<00:00, 15.07s/it]\n",
      "Validation: 100%|███████████████████████████████████████████████████████████████████████████████████████████████████████████████████████████████████████████████████████████████████████████████████████████████████████████████████████████████████| 3/3 [01:09<00:00, 23.18s/it]\n"
     ]
    },
    {
     "name": "stdout",
     "output_type": "stream",
     "text": [
      "\u001b[2m2025-07-08 13:02:18\u001b[0m [\u001b[32m\u001b[1minfo     \u001b[0m] \u001b[1m\n",
      "                Train Loss: 0.4954 | Val Loss: 0.4863\n",
      "                Train F1 score: 0.5947 | Val F1 score: 0.6015\n",
      "                Train AUC: 0.7828 | Val AUC: 0.7924\n",
      "                Learning rate: 1.00e-03\n",
      "            \u001b[0m\n",
      "\u001b[2m2025-07-08 13:02:18\u001b[0m [\u001b[32m\u001b[1minfo     \u001b[0m] \u001b[1m\n",
      "Epoch 5/15                   \u001b[0m\n",
      "\u001b[2m2025-07-08 13:02:18\u001b[0m [\u001b[32m\u001b[1minfo     \u001b[0m] \u001b[1m------------------------------\u001b[0m\n"
     ]
    },
    {
     "name": "stderr",
     "output_type": "stream",
     "text": [
      "Training: 100%|███████████████████████████████████████████████████████████████████████████████████████████████████████████████████████████████████████████████████████████████████████████████████████████████████████████████████████████████████| 31/31 [07:46<00:00, 15.06s/it]\n",
      "Validation: 100%|███████████████████████████████████████████████████████████████████████████████████████████████████████████████████████████████████████████████████████████████████████████████████████████████████████████████████████████████████| 3/3 [01:05<00:00, 21.93s/it]\n"
     ]
    },
    {
     "name": "stdout",
     "output_type": "stream",
     "text": [
      "\u001b[2m2025-07-08 13:11:14\u001b[0m [\u001b[32m\u001b[1minfo     \u001b[0m] \u001b[1m\n",
      "                Train Loss: 0.4924 | Val Loss: 0.4835\n",
      "                Train F1 score: 0.5974 | Val F1 score: 0.6012\n",
      "                Train AUC: 0.7861 | Val AUC: 0.7932\n",
      "                Learning rate: 1.00e-03\n",
      "            \u001b[0m\n",
      "\u001b[2m2025-07-08 13:11:14\u001b[0m [\u001b[32m\u001b[1minfo     \u001b[0m] \u001b[1m\n",
      "Epoch 6/15                   \u001b[0m\n",
      "\u001b[2m2025-07-08 13:11:14\u001b[0m [\u001b[32m\u001b[1minfo     \u001b[0m] \u001b[1m------------------------------\u001b[0m\n"
     ]
    },
    {
     "name": "stderr",
     "output_type": "stream",
     "text": [
      "Training: 100%|███████████████████████████████████████████████████████████████████████████████████████████████████████████████████████████████████████████████████████████████████████████████████████████████████████████████████████████████████| 31/31 [07:46<00:00, 15.04s/it]\n",
      "Validation: 100%|███████████████████████████████████████████████████████████████████████████████████████████████████████████████████████████████████████████████████████████████████████████████████████████████████████████████████████████████████| 3/3 [01:05<00:00, 21.99s/it]\n"
     ]
    },
    {
     "name": "stdout",
     "output_type": "stream",
     "text": [
      "\u001b[2m2025-07-08 13:20:10\u001b[0m [\u001b[32m\u001b[1minfo     \u001b[0m] \u001b[1m\n",
      "                Train Loss: 0.4894 | Val Loss: 0.4853\n",
      "                Train F1 score: 0.6010 | Val F1 score: 0.6038\n",
      "                Train AUC: 0.7893 | Val AUC: 0.7944\n",
      "                Learning rate: 1.00e-03\n",
      "            \u001b[0m\n",
      "\u001b[2m2025-07-08 13:20:10\u001b[0m [\u001b[32m\u001b[1minfo     \u001b[0m] \u001b[1m\n",
      "Epoch 7/15                   \u001b[0m\n",
      "\u001b[2m2025-07-08 13:20:10\u001b[0m [\u001b[32m\u001b[1minfo     \u001b[0m] \u001b[1m------------------------------\u001b[0m\n"
     ]
    },
    {
     "name": "stderr",
     "output_type": "stream",
     "text": [
      "Training: 100%|███████████████████████████████████████████████████████████████████████████████████████████████████████████████████████████████████████████████████████████████████████████████████████████████████████████████████████████████████| 31/31 [07:47<00:00, 15.08s/it]\n",
      "Validation: 100%|███████████████████████████████████████████████████████████████████████████████████████████████████████████████████████████████████████████████████████████████████████████████████████████████████████████████████████████████████| 3/3 [01:06<00:00, 22.23s/it]\n"
     ]
    },
    {
     "name": "stdout",
     "output_type": "stream",
     "text": [
      "\u001b[2m2025-07-08 13:29:07\u001b[0m [\u001b[32m\u001b[1minfo     \u001b[0m] \u001b[1m\n",
      "                Train Loss: 0.4871 | Val Loss: 0.4821\n",
      "                Train F1 score: 0.6026 | Val F1 score: 0.6032\n",
      "                Train AUC: 0.7917 | Val AUC: 0.7951\n",
      "                Learning rate: 1.00e-03\n",
      "            \u001b[0m\n",
      "\u001b[2m2025-07-08 13:29:07\u001b[0m [\u001b[32m\u001b[1minfo     \u001b[0m] \u001b[1m\n",
      "Epoch 8/15                   \u001b[0m\n",
      "\u001b[2m2025-07-08 13:29:07\u001b[0m [\u001b[32m\u001b[1minfo     \u001b[0m] \u001b[1m------------------------------\u001b[0m\n"
     ]
    },
    {
     "name": "stderr",
     "output_type": "stream",
     "text": [
      "Training: 100%|███████████████████████████████████████████████████████████████████████████████████████████████████████████████████████████████████████████████████████████████████████████████████████████████████████████████████████████████████| 31/31 [07:47<00:00, 15.07s/it]\n",
      "Validation: 100%|███████████████████████████████████████████████████████████████████████████████████████████████████████████████████████████████████████████████████████████████████████████████████████████████████████████████████████████████████| 3/3 [01:07<00:00, 22.45s/it]\n"
     ]
    },
    {
     "name": "stdout",
     "output_type": "stream",
     "text": [
      "\u001b[2m2025-07-08 13:38:05\u001b[0m [\u001b[32m\u001b[1minfo     \u001b[0m] \u001b[1m\n",
      "                Train Loss: 0.4856 | Val Loss: 0.4815\n",
      "                Train F1 score: 0.6034 | Val F1 score: 0.6037\n",
      "                Train AUC: 0.7934 | Val AUC: 0.7968\n",
      "                Learning rate: 1.00e-03\n",
      "            \u001b[0m\n",
      "\u001b[2m2025-07-08 13:38:05\u001b[0m [\u001b[32m\u001b[1minfo     \u001b[0m] \u001b[1m\n",
      "Epoch 9/15                   \u001b[0m\n",
      "\u001b[2m2025-07-08 13:38:05\u001b[0m [\u001b[32m\u001b[1minfo     \u001b[0m] \u001b[1m------------------------------\u001b[0m\n"
     ]
    },
    {
     "name": "stderr",
     "output_type": "stream",
     "text": [
      "Training: 100%|███████████████████████████████████████████████████████████████████████████████████████████████████████████████████████████████████████████████████████████████████████████████████████████████████████████████████████████████████| 31/31 [07:45<00:00, 15.02s/it]\n",
      "Validation: 100%|███████████████████████████████████████████████████████████████████████████████████████████████████████████████████████████████████████████████████████████████████████████████████████████████████████████████████████████████████| 3/3 [01:06<00:00, 22.27s/it]\n"
     ]
    },
    {
     "name": "stdout",
     "output_type": "stream",
     "text": [
      "\u001b[2m2025-07-08 13:47:00\u001b[0m [\u001b[32m\u001b[1minfo     \u001b[0m] \u001b[1m\n",
      "                Train Loss: 0.4842 | Val Loss: 0.4792\n",
      "                Train F1 score: 0.6056 | Val F1 score: 0.6060\n",
      "                Train AUC: 0.7950 | Val AUC: 0.7978\n",
      "                Learning rate: 1.00e-03\n",
      "            \u001b[0m\n",
      "\u001b[2m2025-07-08 13:47:00\u001b[0m [\u001b[32m\u001b[1minfo     \u001b[0m] \u001b[1m\n",
      "Epoch 10/15                  \u001b[0m\n",
      "\u001b[2m2025-07-08 13:47:00\u001b[0m [\u001b[32m\u001b[1minfo     \u001b[0m] \u001b[1m------------------------------\u001b[0m\n"
     ]
    },
    {
     "name": "stderr",
     "output_type": "stream",
     "text": [
      "Training: 100%|███████████████████████████████████████████████████████████████████████████████████████████████████████████████████████████████████████████████████████████████████████████████████████████████████████████████████████████████████| 31/31 [07:45<00:00, 15.03s/it]\n",
      "Validation: 100%|███████████████████████████████████████████████████████████████████████████████████████████████████████████████████████████████████████████████████████████████████████████████████████████████████████████████████████████████████| 3/3 [01:06<00:00, 22.06s/it]\n"
     ]
    },
    {
     "name": "stdout",
     "output_type": "stream",
     "text": [
      "\u001b[2m2025-07-08 13:55:55\u001b[0m [\u001b[32m\u001b[1minfo     \u001b[0m] \u001b[1m\n",
      "                Train Loss: 0.4830 | Val Loss: 0.4783\n",
      "                Train F1 score: 0.6072 | Val F1 score: 0.6036\n",
      "                Train AUC: 0.7962 | Val AUC: 0.7971\n",
      "                Learning rate: 1.00e-03\n",
      "            \u001b[0m\n",
      "\u001b[2m2025-07-08 13:55:55\u001b[0m [\u001b[32m\u001b[1minfo     \u001b[0m] \u001b[1m\n",
      "Epoch 11/15                  \u001b[0m\n",
      "\u001b[2m2025-07-08 13:55:55\u001b[0m [\u001b[32m\u001b[1minfo     \u001b[0m] \u001b[1m------------------------------\u001b[0m\n"
     ]
    },
    {
     "name": "stderr",
     "output_type": "stream",
     "text": [
      "Training: 100%|███████████████████████████████████████████████████████████████████████████████████████████████████████████████████████████████████████████████████████████████████████████████████████████████████████████████████████████████████| 31/31 [07:48<00:00, 15.12s/it]\n",
      "Validation: 100%|███████████████████████████████████████████████████████████████████████████████████████████████████████████████████████████████████████████████████████████████████████████████████████████████████████████████████████████████████| 3/3 [01:07<00:00, 22.48s/it]\n"
     ]
    },
    {
     "name": "stdout",
     "output_type": "stream",
     "text": [
      "\u001b[2m2025-07-08 14:04:54\u001b[0m [\u001b[32m\u001b[1minfo     \u001b[0m] \u001b[1m\n",
      "                Train Loss: 0.4819 | Val Loss: 0.4808\n",
      "                Train F1 score: 0.6073 | Val F1 score: 0.6032\n",
      "                Train AUC: 0.7974 | Val AUC: 0.7954\n",
      "                Learning rate: 1.00e-03\n",
      "            \u001b[0m\n",
      "\u001b[2m2025-07-08 14:04:54\u001b[0m [\u001b[32m\u001b[1minfo     \u001b[0m] \u001b[1m\n",
      "Epoch 12/15                  \u001b[0m\n",
      "\u001b[2m2025-07-08 14:04:54\u001b[0m [\u001b[32m\u001b[1minfo     \u001b[0m] \u001b[1m------------------------------\u001b[0m\n"
     ]
    },
    {
     "name": "stderr",
     "output_type": "stream",
     "text": [
      "Training: 100%|███████████████████████████████████████████████████████████████████████████████████████████████████████████████████████████████████████████████████████████████████████████████████████████████████████████████████████████████████| 31/31 [07:48<00:00, 15.12s/it]\n",
      "Validation: 100%|███████████████████████████████████████████████████████████████████████████████████████████████████████████████████████████████████████████████████████████████████████████████████████████████████████████████████████████████████| 3/3 [01:06<00:00, 22.21s/it]\n"
     ]
    },
    {
     "name": "stdout",
     "output_type": "stream",
     "text": [
      "\u001b[2m2025-07-08 14:13:52\u001b[0m [\u001b[32m\u001b[1minfo     \u001b[0m] \u001b[1m\n",
      "                Train Loss: 0.4798 | Val Loss: 0.4808\n",
      "                Train F1 score: 0.6089 | Val F1 score: 0.6034\n",
      "                Train AUC: 0.7995 | Val AUC: 0.7967\n",
      "                Learning rate: 1.00e-03\n",
      "            \u001b[0m\n",
      "\u001b[2m2025-07-08 14:13:52\u001b[0m [\u001b[32m\u001b[1minfo     \u001b[0m] \u001b[1m\n",
      "Epoch 13/15                  \u001b[0m\n",
      "\u001b[2m2025-07-08 14:13:52\u001b[0m [\u001b[32m\u001b[1minfo     \u001b[0m] \u001b[1m------------------------------\u001b[0m\n"
     ]
    },
    {
     "name": "stderr",
     "output_type": "stream",
     "text": [
      "Training: 100%|███████████████████████████████████████████████████████████████████████████████████████████████████████████████████████████████████████████████████████████████████████████████████████████████████████████████████████████████████| 31/31 [07:44<00:00, 14.99s/it]\n",
      "Validation: 100%|███████████████████████████████████████████████████████████████████████████████████████████████████████████████████████████████████████████████████████████████████████████████████████████████████████████████████████████████████| 3/3 [01:05<00:00, 21.89s/it]\n"
     ]
    },
    {
     "name": "stdout",
     "output_type": "stream",
     "text": [
      "\u001b[2m2025-07-08 14:22:45\u001b[0m [\u001b[32m\u001b[1minfo     \u001b[0m] \u001b[1m\n",
      "                Train Loss: 0.4782 | Val Loss: 0.4764\n",
      "                Train F1 score: 0.6111 | Val F1 score: 0.6050\n",
      "                Train AUC: 0.8013 | Val AUC: 0.7989\n",
      "                Learning rate: 1.00e-03\n",
      "            \u001b[0m\n",
      "\u001b[2m2025-07-08 14:22:45\u001b[0m [\u001b[32m\u001b[1minfo     \u001b[0m] \u001b[1m\n",
      "Epoch 14/15                  \u001b[0m\n",
      "\u001b[2m2025-07-08 14:22:45\u001b[0m [\u001b[32m\u001b[1minfo     \u001b[0m] \u001b[1m------------------------------\u001b[0m\n"
     ]
    },
    {
     "name": "stderr",
     "output_type": "stream",
     "text": [
      "Training: 100%|███████████████████████████████████████████████████████████████████████████████████████████████████████████████████████████████████████████████████████████████████████████████████████████████████████████████████████████████████| 31/31 [07:47<00:00, 15.07s/it]\n",
      "Validation: 100%|███████████████████████████████████████████████████████████████████████████████████████████████████████████████████████████████████████████████████████████████████████████████████████████████████████████████████████████████████| 3/3 [01:05<00:00, 21.95s/it]\n"
     ]
    },
    {
     "name": "stdout",
     "output_type": "stream",
     "text": [
      "\u001b[2m2025-07-08 14:31:41\u001b[0m [\u001b[32m\u001b[1minfo     \u001b[0m] \u001b[1m\n",
      "                Train Loss: 0.4758 | Val Loss: 0.4790\n",
      "                Train F1 score: 0.6131 | Val F1 score: 0.6025\n",
      "                Train AUC: 0.8034 | Val AUC: 0.7961\n",
      "                Learning rate: 1.00e-03\n",
      "            \u001b[0m\n",
      "\u001b[2m2025-07-08 14:31:41\u001b[0m [\u001b[32m\u001b[1minfo     \u001b[0m] \u001b[1m\n",
      "Epoch 15/15                  \u001b[0m\n",
      "\u001b[2m2025-07-08 14:31:41\u001b[0m [\u001b[32m\u001b[1minfo     \u001b[0m] \u001b[1m------------------------------\u001b[0m\n"
     ]
    },
    {
     "name": "stderr",
     "output_type": "stream",
     "text": [
      "Training: 100%|███████████████████████████████████████████████████████████████████████████████████████████████████████████████████████████████████████████████████████████████████████████████████████████████████████████████████████████████████| 31/31 [07:49<00:00, 15.15s/it]\n",
      "Validation: 100%|███████████████████████████████████████████████████████████████████████████████████████████████████████████████████████████████████████████████████████████████████████████████████████████████████████████████████████████████████| 3/3 [01:06<00:00, 22.31s/it]\n"
     ]
    },
    {
     "name": "stdout",
     "output_type": "stream",
     "text": [
      "\u001b[2m2025-07-08 14:40:41\u001b[0m [\u001b[32m\u001b[1minfo     \u001b[0m] \u001b[1m\n",
      "                Train Loss: 0.4739 | Val Loss: 0.4780\n",
      "                Train F1 score: 0.6146 | Val F1 score: 0.6043\n",
      "                Train AUC: 0.8055 | Val AUC: 0.7971\n",
      "                Learning rate: 1.00e-03\n",
      "            \u001b[0m\n"
     ]
    },
    {
     "data": {
      "text/plain": [
       "{'train_loss': [0.5831237070022091,\n",
       "  0.5154137015342712,\n",
       "  0.5012472791056479,\n",
       "  0.4953839221308308,\n",
       "  0.4924085226751143,\n",
       "  0.4894270252796911,\n",
       "  0.48714734758100203,\n",
       "  0.48562445275245175,\n",
       "  0.4841855418297552,\n",
       "  0.4830473546058901,\n",
       "  0.4819101373995504,\n",
       "  0.4798043091450968,\n",
       "  0.4781856142705487,\n",
       "  0.47578894611327877,\n",
       "  0.4739469241711401],\n",
       " 'val_loss': [0.5210816065470377,\n",
       "  0.4943032463391622,\n",
       "  0.4877110421657562,\n",
       "  0.4863423506418864,\n",
       "  0.4834682842095693,\n",
       "  0.48532583316167194,\n",
       "  0.48210904002189636,\n",
       "  0.48148732384045917,\n",
       "  0.4791725476582845,\n",
       "  0.47834614912668866,\n",
       "  0.48077807823816937,\n",
       "  0.48075395822525024,\n",
       "  0.47644320130348206,\n",
       "  0.4789624810218811,\n",
       "  0.4779948790868123],\n",
       " 'train_f1': [0.4928359864328672,\n",
       "  0.5768703993434046,\n",
       "  0.5898065911101226,\n",
       "  0.5946528920928649,\n",
       "  0.5973813420621932,\n",
       "  0.6010259733246935,\n",
       "  0.6025998193217533,\n",
       "  0.6033874765361371,\n",
       "  0.6055916018193184,\n",
       "  0.607212880993405,\n",
       "  0.6072554270227749,\n",
       "  0.6089056489605394,\n",
       "  0.6110715134236161,\n",
       "  0.6131333218052913,\n",
       "  0.6146384574760463],\n",
       " 'val_f1': [0.5751754561860838,\n",
       "  0.5937973607363324,\n",
       "  0.5985953126192839,\n",
       "  0.6014754476292938,\n",
       "  0.6012413631572784,\n",
       "  0.6038048596722546,\n",
       "  0.6031526866873778,\n",
       "  0.6036793793447786,\n",
       "  0.6059960552268244,\n",
       "  0.6036021802670037,\n",
       "  0.6032451153860633,\n",
       "  0.6033696430590629,\n",
       "  0.6050328653105674,\n",
       "  0.6025208192662616,\n",
       "  0.6043181904725639],\n",
       " 'train_auc': [0.6447236723539836,\n",
       "  0.7598392736186882,\n",
       "  0.7760353563355102,\n",
       "  0.7827956441427778,\n",
       "  0.7860597610194174,\n",
       "  0.7892792626884111,\n",
       "  0.7917298941988403,\n",
       "  0.7934047129961208,\n",
       "  0.7950219576349986,\n",
       "  0.7961748356842098,\n",
       "  0.7974448460237944,\n",
       "  0.7994703053810306,\n",
       "  0.8013005077001735,\n",
       "  0.8034293121887564,\n",
       "  0.8055265143819332],\n",
       " 'val_auc': [0.7616946468984986,\n",
       "  0.7832478805696834,\n",
       "  0.7896912186990486,\n",
       "  0.7924069146509138,\n",
       "  0.7931863547319495,\n",
       "  0.7944223886975883,\n",
       "  0.795124144851313,\n",
       "  0.7967711007653371,\n",
       "  0.7977983894763099,\n",
       "  0.797092418416762,\n",
       "  0.7953690314500037,\n",
       "  0.7967006850315139,\n",
       "  0.7988588289824301,\n",
       "  0.7961056285437909,\n",
       "  0.7971316662813617],\n",
       " 'thresholds': [0.27586206896551724,\n",
       "  0.3103448275862069,\n",
       "  0.3103448275862069,\n",
       "  0.3448275862068966,\n",
       "  0.3448275862068966,\n",
       "  0.3448275862068966,\n",
       "  0.3448275862068966,\n",
       "  0.3448275862068966,\n",
       "  0.3448275862068966,\n",
       "  0.3448275862068966,\n",
       "  0.3103448275862069,\n",
       "  0.3448275862068966,\n",
       "  0.3448275862068966,\n",
       "  0.3103448275862069,\n",
       "  0.3103448275862069]}"
      ]
     },
     "execution_count": 46,
     "metadata": {},
     "output_type": "execute_result"
    }
   ],
   "source": [
    "clf_trainer.fit(\n",
    "    model=clf,\n",
    "    train_loader=train_dataloader,\n",
    "    val_loader=val_dataloader,\n",
    "    epochs=15,\n",
    "    patience=3\n",
    ")"
   ]
  },
  {
   "cell_type": "code",
   "execution_count": 47,
   "id": "40031a61-4eef-495f-9e25-9ef787e1293b",
   "metadata": {},
   "outputs": [
    {
     "name": "stderr",
     "output_type": "stream",
     "text": [
      "Evaluating: 100%|███████████████████████████████████████████████████████████████████████████████████████████████████████████████████████████████████████████████████████████████████████████████████████████████████████████████████████████████████| 5/5 [02:10<00:00, 26.20s/it]"
     ]
    },
    {
     "name": "stdout",
     "output_type": "stream",
     "text": [
      "ROC-AUC – 0.802\n",
      "F1 score – 0.608\n"
     ]
    },
    {
     "name": "stderr",
     "output_type": "stream",
     "text": [
      "\n"
     ]
    }
   ],
   "source": [
    "from tqdm import tqdm\n",
    "from sklearn.metrics import f1_score, roc_auc_score\n",
    "\n",
    "all_logits, all_labels = [], []\n",
    "threshold = 0.27\n",
    "clf.eval()\n",
    "with torch.no_grad():\n",
    "    for X_batch in tqdm(test_dataloader, desc=\"Evaluating\", disable=False):\n",
    "        y_batch = X_batch[\"target\"].to(DEVICE).float()\n",
    "        logits = clf(X_batch).squeeze()\n",
    "\n",
    "        all_logits.append(logits)\n",
    "        all_labels.append(y_batch)\n",
    "        \n",
    "    all_logits = torch.cat(all_logits)\n",
    "    all_labels = torch.cat(all_labels)\n",
    "\n",
    "\n",
    "y_proba = torch.sigmoid(all_logits).cpu().numpy()\n",
    "y_true = all_labels.cpu().numpy()\n",
    "y_pred = (y_proba >= threshold).astype(int)\n",
    "\n",
    "auc = roc_auc_score(y_true, y_proba)\n",
    "f1 = f1_score(y_true, y_pred)\n",
    "\n",
    "print(f\"ROC-AUC – {auc:.3f}\")\n",
    "print(f\"F1 score – {f1:.3f}\")\n",
    "    "
   ]
  }
 ],
 "metadata": {
  "kernelspec": {
   "display_name": "Python 3 (ipykernel)",
   "language": "python",
   "name": "python3"
  },
  "language_info": {
   "codemirror_mode": {
    "name": "ipython",
    "version": 3
   },
   "file_extension": ".py",
   "mimetype": "text/x-python",
   "name": "python",
   "nbconvert_exporter": "python",
   "pygments_lexer": "ipython3",
   "version": "3.9.20"
  }
 },
 "nbformat": 4,
 "nbformat_minor": 5
}
